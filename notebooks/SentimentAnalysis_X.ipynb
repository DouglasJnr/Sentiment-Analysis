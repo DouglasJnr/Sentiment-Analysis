{
 "cells": [
  {
   "cell_type": "code",
   "execution_count": null,
   "id": "b70f2ac7-8afa-49d0-b26a-9e250a82be55",
   "metadata": {},
   "outputs": [],
   "source": [
    "pip install tweepy pandas numpy matplotlib seaborn nltk tensorflow scikit-learn streamlit\n"
   ]
  },
  {
   "cell_type": "code",
   "execution_count": null,
   "id": "12a59d54-c45b-43f5-8d2e-3c1e07966796",
   "metadata": {},
   "outputs": [],
   "source": []
  }
 ],
 "metadata": {
  "kernelspec": {
   "display_name": "anaconda-2024.02-py310",
   "language": "python",
   "name": "conda-env-anaconda-2024.02-py310-py"
  },
  "language_info": {
   "codemirror_mode": {
    "name": "ipython",
    "version": 3
   },
   "file_extension": ".py",
   "mimetype": "text/x-python",
   "name": "python",
   "nbconvert_exporter": "python",
   "pygments_lexer": "ipython3",
   "version": "3.10.14"
  }
 },
 "nbformat": 4,
 "nbformat_minor": 5
}
